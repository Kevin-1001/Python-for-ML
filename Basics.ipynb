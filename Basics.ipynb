{
 "cells": [
  {
   "cell_type": "markdown",
   "id": "efeb9090-c381-4e03-93a5-3a564006f8b0",
   "metadata": {},
   "source": [
    "# **Basics of `Python` Programming**\n",
    "\n",
    "In this notebook we shall be explaining basic `python` for Machine Learning."
   ]
  },
  {
   "cell_type": "markdown",
   "id": "1337ba6e-33de-4da3-a225-cd17b6c8e381",
   "metadata": {},
   "source": [
    "## Derived Datatypes in `Python`"
   ]
  },
  {
   "cell_type": "markdown",
   "id": "75f043f8-a804-49fe-93f5-3ec2e3138e6f",
   "metadata": {},
   "source": [
    ">**NOTE:** In python `int`, `float`, `int` etc are atomic datatypes and no declaration is required"
   ]
  },
  {
   "cell_type": "markdown",
   "id": "096a58aa-641b-4f07-9066-2a9414a99c13",
   "metadata": {},
   "source": [
    "### List"
   ]
  },
  {
   "cell_type": "markdown",
   "id": "eaa7f966-8b2a-44d5-804f-ac5e59fa4ca8",
   "metadata": {},
   "source": [
    "Creating a List \"my_list\""
   ]
  },
  {
   "cell_type": "code",
   "execution_count": 25,
   "id": "78624f46-349a-44b8-b83b-8ff98c41c99a",
   "metadata": {},
   "outputs": [],
   "source": [
    "my_list = [1,2,3]"
   ]
  },
  {
   "cell_type": "code",
   "execution_count": 26,
   "id": "c8918c81-f0d8-43f5-9b10-475215308570",
   "metadata": {},
   "outputs": [
    {
     "data": {
      "text/plain": [
       "[1, 2, 3]"
      ]
     },
     "execution_count": 26,
     "metadata": {},
     "output_type": "execute_result"
    }
   ],
   "source": [
    "my_list"
   ]
  },
  {
   "cell_type": "code",
   "execution_count": 27,
   "id": "b6b31cb1-eda5-4ab0-994a-1d2ad42b1607",
   "metadata": {},
   "outputs": [],
   "source": [
    "my_list = [1,'a',2,'b',3,'c']"
   ]
  },
  {
   "cell_type": "code",
   "execution_count": 28,
   "id": "6fc01156-6f0a-4d19-951c-fa377e73d95e",
   "metadata": {},
   "outputs": [
    {
     "data": {
      "text/plain": [
       "[1, 'a', 2, 'b', 3, 'c']"
      ]
     },
     "execution_count": 28,
     "metadata": {},
     "output_type": "execute_result"
    }
   ],
   "source": [
    "my_list"
   ]
  },
  {
   "cell_type": "markdown",
   "id": "bea74799-2bb4-44f9-9cb5-c9e8587f4759",
   "metadata": {},
   "source": [
    "Retrieving an Element"
   ]
  },
  {
   "cell_type": "code",
   "execution_count": 29,
   "id": "6f2c5b11-cd35-4fd1-8003-68d52baaf889",
   "metadata": {},
   "outputs": [
    {
     "data": {
      "text/plain": [
       "1"
      ]
     },
     "execution_count": 29,
     "metadata": {},
     "output_type": "execute_result"
    }
   ],
   "source": [
    "my_list[0]"
   ]
  },
  {
   "cell_type": "markdown",
   "id": "fd3e407d-f600-457b-ad9c-15cb0552f38c",
   "metadata": {},
   "source": [
    "Nested List"
   ]
  },
  {
   "cell_type": "code",
   "execution_count": 30,
   "id": "d3016612-a0ef-4e25-9952-8da1a742af33",
   "metadata": {},
   "outputs": [],
   "source": [
    "my_list = [1,'a',2,'b',3,'c',[100,200]]"
   ]
  },
  {
   "cell_type": "code",
   "execution_count": 31,
   "id": "614ebc61-47fa-4f3c-a551-269c8c5a56dd",
   "metadata": {},
   "outputs": [
    {
     "data": {
      "text/plain": [
       "[1, 'a', 2, 'b', 3, 'c', [100, 200]]"
      ]
     },
     "execution_count": 31,
     "metadata": {},
     "output_type": "execute_result"
    }
   ],
   "source": [
    "my_list"
   ]
  },
  {
   "cell_type": "markdown",
   "id": "12427ebd-7c2c-4638-be73-7f88c38e8fc6",
   "metadata": {},
   "source": [
    "Retrieving an Element from a Nested List"
   ]
  },
  {
   "cell_type": "code",
   "execution_count": 32,
   "id": "e4a3cd37-ec0b-4c64-b877-62ab6426d1c2",
   "metadata": {},
   "outputs": [
    {
     "data": {
      "text/plain": [
       "100"
      ]
     },
     "execution_count": 32,
     "metadata": {},
     "output_type": "execute_result"
    }
   ],
   "source": [
    "my_list[6][0]"
   ]
  },
  {
   "cell_type": "markdown",
   "id": "95a99e7c-3b50-4578-9afc-e3585b119f91",
   "metadata": {},
   "source": [
    "Slicing a List"
   ]
  },
  {
   "cell_type": "code",
   "execution_count": 33,
   "id": "fe9d411e-b0e2-476b-8a08-3c88d400e739",
   "metadata": {},
   "outputs": [
    {
     "data": {
      "text/plain": [
       "[1, 'a', 2]"
      ]
     },
     "execution_count": 33,
     "metadata": {},
     "output_type": "execute_result"
    }
   ],
   "source": [
    "my_list[:3]"
   ]
  },
  {
   "cell_type": "code",
   "execution_count": 34,
   "id": "ac3eaae9-0055-4c9e-8de4-569e29cd463f",
   "metadata": {},
   "outputs": [
    {
     "data": {
      "text/plain": [
       "[2, 'b', 3, 'c', [100, 200]]"
      ]
     },
     "execution_count": 34,
     "metadata": {},
     "output_type": "execute_result"
    }
   ],
   "source": [
    "my_list[2:]"
   ]
  },
  {
   "cell_type": "code",
   "execution_count": 35,
   "id": "f62d2660-3146-4556-9a18-47f97acaea39",
   "metadata": {},
   "outputs": [
    {
     "data": {
      "text/plain": [
       "[[100, 200]]"
      ]
     },
     "execution_count": 35,
     "metadata": {},
     "output_type": "execute_result"
    }
   ],
   "source": [
    "my_list[-1:]"
   ]
  },
  {
   "cell_type": "code",
   "execution_count": 36,
   "id": "0fc67a9c-6e9d-4a2e-b843-3900cd256399",
   "metadata": {},
   "outputs": [
    {
     "data": {
      "text/plain": [
       "[1, 'a', 2, 'b', 3, 'c']"
      ]
     },
     "execution_count": 36,
     "metadata": {},
     "output_type": "execute_result"
    }
   ],
   "source": [
    "my_list[:-1]"
   ]
  },
  {
   "cell_type": "markdown",
   "id": "31842673-ca30-4ea9-a4e9-8fc467b6e8e5",
   "metadata": {},
   "source": [
    "Adding an Element"
   ]
  },
  {
   "cell_type": "code",
   "execution_count": 37,
   "id": "0ea14867-f1a9-4349-9463-d76dee41951c",
   "metadata": {},
   "outputs": [],
   "source": [
    "my_list[5]=\"new\""
   ]
  },
  {
   "cell_type": "code",
   "execution_count": 39,
   "id": "205077d5-9f27-45e0-a04c-ebe7bb6b267e",
   "metadata": {},
   "outputs": [
    {
     "data": {
      "text/plain": [
       "[1, 'a', 2, 'b', 3, 'new', [100, 200], 'newer']"
      ]
     },
     "execution_count": 39,
     "metadata": {},
     "output_type": "execute_result"
    }
   ],
   "source": [
    "my_list"
   ]
  },
  {
   "cell_type": "markdown",
   "id": "d6763576-397f-49b0-adc1-a6066f3a6a42",
   "metadata": {},
   "source": [
    "Append to Add Element"
   ]
  },
  {
   "cell_type": "code",
   "execution_count": 38,
   "id": "f81c28f4-e144-4890-a599-4300b2c00d12",
   "metadata": {},
   "outputs": [],
   "source": [
    "my_list.append(\"newer\");"
   ]
  },
  {
   "cell_type": "code",
   "execution_count": 40,
   "id": "c57072f4-48cd-4fc7-b1cc-89e7f65efed0",
   "metadata": {},
   "outputs": [
    {
     "data": {
      "text/plain": [
       "[1, 'a', 2, 'b', 3, 'new', [100, 200], 'newer']"
      ]
     },
     "execution_count": 40,
     "metadata": {},
     "output_type": "execute_result"
    }
   ],
   "source": [
    "my_list"
   ]
  },
  {
   "cell_type": "markdown",
   "id": "b8bf42c6-310a-4b42-86bb-110d09d148fe",
   "metadata": {},
   "source": [
    "### Tuple\n",
    ">**NOTE:** Tuples cannot be assigned values directly "
   ]
  },
  {
   "cell_type": "code",
   "execution_count": 42,
   "id": "3deaae1d-9f78-4f0e-93e2-eb4ce7a78b34",
   "metadata": {},
   "outputs": [],
   "source": [
    "t=(1,2,3)"
   ]
  },
  {
   "cell_type": "code",
   "execution_count": 43,
   "id": "f74c3c8b-c329-4be8-8294-f328248fa3dc",
   "metadata": {},
   "outputs": [
    {
     "data": {
      "text/plain": [
       "(1, 2, 3)"
      ]
     },
     "execution_count": 43,
     "metadata": {},
     "output_type": "execute_result"
    }
   ],
   "source": [
    "t"
   ]
  },
  {
   "cell_type": "markdown",
   "id": "868f598c-a4ec-4ab8-ab1a-42e89ede48aa",
   "metadata": {},
   "source": [
    "### Dictionary\n",
    ">**NOTE:** Dictionary={Key1:Element1, Key2:Element2 . . .}"
   ]
  },
  {
   "cell_type": "code",
   "execution_count": 45,
   "id": "b27b2eb0-1790-41a3-9e0e-53db27122ba5",
   "metadata": {},
   "outputs": [],
   "source": [
    "d={\"Name\":\"Kev\",\"age\":21}"
   ]
  },
  {
   "cell_type": "code",
   "execution_count": 46,
   "id": "cb6e838f-2314-4809-ba59-8324eda5f2b0",
   "metadata": {},
   "outputs": [
    {
     "data": {
      "text/plain": [
       "{'Name': 'Kev', 'age': 21}"
      ]
     },
     "execution_count": 46,
     "metadata": {},
     "output_type": "execute_result"
    }
   ],
   "source": [
    "d"
   ]
  },
  {
   "cell_type": "code",
   "execution_count": 48,
   "id": "216c8310-c925-4314-bdc3-5496137f846f",
   "metadata": {},
   "outputs": [
    {
     "data": {
      "text/plain": [
       "21"
      ]
     },
     "execution_count": 48,
     "metadata": {},
     "output_type": "execute_result"
    }
   ],
   "source": [
    "d[\"age\"]"
   ]
  },
  {
   "cell_type": "markdown",
   "id": "9e5fb715-a205-4abe-9e4c-4a2fb2b201f9",
   "metadata": {},
   "source": [
    "### Set"
   ]
  },
  {
   "cell_type": "code",
   "execution_count": 49,
   "id": "7f3485e8-bb52-44e2-84d8-8c0afad8d183",
   "metadata": {},
   "outputs": [
    {
     "data": {
      "text/plain": [
       "{1, 2, 3}"
      ]
     },
     "execution_count": 49,
     "metadata": {},
     "output_type": "execute_result"
    }
   ],
   "source": [
    "{1,2,3,}"
   ]
  },
  {
   "cell_type": "code",
   "execution_count": 50,
   "id": "6bc7766a-c062-4837-b531-0a785ca8e0a3",
   "metadata": {},
   "outputs": [
    {
     "data": {
      "text/plain": [
       "{1, 2, 3}"
      ]
     },
     "execution_count": 50,
     "metadata": {},
     "output_type": "execute_result"
    }
   ],
   "source": [
    "{1,1,1,2,2,2,3,3,3}"
   ]
  },
  {
   "cell_type": "markdown",
   "id": "18466f38-1d4b-4730-b505-b6a93bf9a21b",
   "metadata": {},
   "source": [
    "## Functions\n",
    ">**NOTE:** Keep in mind Indentations\n",
    "\n",
    "`def <function_name>(<variable1>,<variable2>,<variable 3>)`\n",
    "    \n"
   ]
  },
  {
   "cell_type": "code",
   "execution_count": 51,
   "id": "78f62b8f-c5c3-486d-a0a1-0202386d1ab4",
   "metadata": {},
   "outputs": [],
   "source": [
    "def times2(var):\n",
    "    return var*2"
   ]
  },
  {
   "cell_type": "code",
   "execution_count": 52,
   "id": "95d6ac46-1c9c-4d58-9222-4fffc697b19a",
   "metadata": {},
   "outputs": [
    {
     "data": {
      "text/plain": [
       "10"
      ]
     },
     "execution_count": 52,
     "metadata": {},
     "output_type": "execute_result"
    }
   ],
   "source": [
    "times2(5)"
   ]
  },
  {
   "cell_type": "markdown",
   "id": "a5c6840b-b0c9-43f6-a010-a8bf398c89f8",
   "metadata": {},
   "source": [
    "### Lambda Function\n",
    ">**NOTE:** One line Funtion --> `<function_name> = lambda <input_variable> : <operation> ;`"
   ]
  },
  {
   "cell_type": "code",
   "execution_count": 54,
   "id": "506f1fc6-6c56-46d0-97c7-82422844627a",
   "metadata": {},
   "outputs": [],
   "source": [
    "times3=lambda var:var*2"
   ]
  },
  {
   "cell_type": "raw",
   "id": "16c82758-0b37-4970-9cb5-54626752af0c",
   "metadata": {},
   "source": [
    "times3(5)"
   ]
  },
  {
   "cell_type": "markdown",
   "id": "58c84d06-e44c-4a0a-8ea1-f19cf830cceb",
   "metadata": {},
   "source": [
    "## List Comprehension\n",
    ">**NOTE:** `[ <operation> for <variable> in <list> ]`"
   ]
  },
  {
   "cell_type": "code",
   "execution_count": 57,
   "id": "ec9d699d-7b43-4f0a-9a2b-09fdd244415c",
   "metadata": {},
   "outputs": [],
   "source": [
    "x=[1,2,3,4]"
   ]
  },
  {
   "cell_type": "code",
   "execution_count": 58,
   "id": "7c68edc5-8ddc-4436-9e74-0ae661f786a5",
   "metadata": {},
   "outputs": [
    {
     "name": "stdout",
     "output_type": "stream",
     "text": [
      "[1, 4, 9, 16]\n"
     ]
    }
   ],
   "source": [
    "out=[]\n",
    "for item in x:\n",
    "    out.append(item**2)\n",
    "print(out)"
   ]
  },
  {
   "cell_type": "code",
   "execution_count": 59,
   "id": "1d18919b-e563-48a9-b38b-17758d3dfbe5",
   "metadata": {},
   "outputs": [
    {
     "data": {
      "text/plain": [
       "[1, 4, 9, 16]"
      ]
     },
     "execution_count": 59,
     "metadata": {},
     "output_type": "execute_result"
    }
   ],
   "source": [
    "[item**2 for item in x]"
   ]
  },
  {
   "cell_type": "markdown",
   "id": "85375476-25e2-452a-b9d8-76806d1648f5",
   "metadata": {},
   "source": [
    "## Printing with Index"
   ]
  },
  {
   "cell_type": "code",
   "execution_count": 61,
   "id": "14ad97b7-73da-43a0-8c15-1fcafc4a65b4",
   "metadata": {},
   "outputs": [
    {
     "name": "stdout",
     "output_type": "stream",
     "text": [
      "My name is : Kevin, my number is:10\n"
     ]
    }
   ],
   "source": [
    "print(\"My name is : {0}, my number is:{1}\".format(\"Kevin\",10))"
   ]
  },
  {
   "cell_type": "code",
   "execution_count": 62,
   "id": "09a6dc93-ab5a-4a0c-8658-1cce8c385ad1",
   "metadata": {},
   "outputs": [
    {
     "name": "stdout",
     "output_type": "stream",
     "text": [
      "My name is : Kev, my number is:10\n"
     ]
    }
   ],
   "source": [
    "name=\"Kev\"\n",
    "num=10\n",
    "print(\"My name is : {zero}, my number is:{one}\".format(zero=name,one=num))"
   ]
  },
  {
   "cell_type": "code",
   "execution_count": 63,
   "id": "926c40c7-3260-4173-8ff6-3440be3efb96",
   "metadata": {},
   "outputs": [
    {
     "name": "stdout",
     "output_type": "stream",
     "text": [
      "My name is : Kevin, my number is:10\n"
     ]
    }
   ],
   "source": [
    "print(\"My name is : {}, my number is:{}\".format(\"Kevin\",10))"
   ]
  },
  {
   "cell_type": "code",
   "execution_count": null,
   "id": "6a8c09a7-76b5-4d1f-a81c-d715ea5a7d8c",
   "metadata": {},
   "outputs": [],
   "source": []
  }
 ],
 "metadata": {
  "kernelspec": {
   "display_name": "Python 3 (Intel® oneAPI 2023.2)",
   "language": "python",
   "name": "c009-intel_distribution_of_python_3_oneapi-beta05-python"
  },
  "language_info": {
   "codemirror_mode": {
    "name": "ipython",
    "version": 3
   },
   "file_extension": ".py",
   "mimetype": "text/x-python",
   "name": "python",
   "nbconvert_exporter": "python",
   "pygments_lexer": "ipython3",
   "version": "3.9.16"
  }
 },
 "nbformat": 4,
 "nbformat_minor": 5
}
